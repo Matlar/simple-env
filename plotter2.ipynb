{
 "cells": [
  {
   "cell_type": "code",
   "execution_count": 13,
   "metadata": {},
   "outputs": [],
   "source": [
    "import matplotlib.pyplot as plt\n",
    "import scipy.signal\n",
    "import numpy as np\n",
    "import os"
   ]
  },
  {
   "cell_type": "code",
   "execution_count": 14,
   "metadata": {},
   "outputs": [],
   "source": [
    "def process_file(filename):\n",
    "    # Read data\n",
    "    with open(filename) as file:\n",
    "        data = file.readlines()\n",
    "    data = map(lambda x: x.strip().split(','), data[2:])\n",
    "    data = list(map(lambda x: (float(x[2]), float(x[0]), int(x[1])), data))\n",
    "    return data"
   ]
  },
  {
   "cell_type": "code",
   "execution_count": 15,
   "metadata": {},
   "outputs": [],
   "source": [
    "def get_data(directory, threads):\n",
    "    filenames = []\n",
    "    data = []\n",
    "    time_begin = 0\n",
    "    for path, _, files in os.walk(directory):\n",
    "        for name in files:\n",
    "            if name.endswith('.csv'):\n",
    "                filenames.append(os.path.join(path, name))\n",
    "        if len(filenames) == threads:\n",
    "            batch_data = []\n",
    "            for filename in filenames:\n",
    "                for time, reward, length in process_file(filename):\n",
    "                    batch_data.append((time + time_begin, reward, length))\n",
    "            batch_data.sort()\n",
    "            time_begin = batch_data[-1][0]\n",
    "            data.extend(batch_data)\n",
    "            filenames = []\n",
    "    data.sort()\n",
    "    return zip(*data)"
   ]
  },
  {
   "cell_type": "code",
   "execution_count": 32,
   "metadata": {},
   "outputs": [],
   "source": [
    "def plot(directory, plot_name='', threads=4):\n",
    "    times, rewards, lengths = get_data(directory, threads)\n",
    "    \n",
    "    # Calculate timesteps\n",
    "    iterlengths = iter(lengths)\n",
    "    timesteps = [next(iterlengths)]\n",
    "    for length in iterlengths:\n",
    "        timesteps.append(timesteps[-1] + length)\n",
    "\n",
    "    # Calculate reward/timestep\n",
    "    reward_per_timestep = []\n",
    "    for reward, length in zip(rewards, lengths):\n",
    "        reward_per_timestep.append(reward/length)\n",
    "    \n",
    "    # Apply Savitzky–Golay filter to smooth data\n",
    "    rewards_smooth = scipy.signal.savgol_filter(rewards, 1001, 2)\n",
    "    lengths_smooth = scipy.signal.savgol_filter(lengths, 1001, 2)\n",
    "    reward_per_timestep_smooth = scipy.signal.savgol_filter(reward_per_timestep, 201, 2)\n",
    "    \n",
    "    fig, [ax1, ax2, ax3] = plt.subplots(ncols=3, figsize=(20, 4))\n",
    "    ax1.set_ylim(bottom=-12, top=80)\n",
    "    #ax1.set_xlabel('Time (s)')\n",
    "    ax1.set_xlabel('Timestep')\n",
    "    ax1.plot(timesteps, rewards)\n",
    "    ax1.plot(timesteps, rewards_smooth, color='red')\n",
    "    ax1.set_title('Reward: ' + plot_name)\n",
    "    \n",
    "    ax2.set_ylim(top=300)\n",
    "    #ax2.set_xlabel('Time (s)')\n",
    "    ax2.set_xlabel('Timestep')\n",
    "    ax2.plot(timesteps, lengths)\n",
    "    ax2.plot(timesteps, lengths_smooth, color='red')\n",
    "    ax2.set_title('Episode Length: ' + plot_name)\n",
    "\n",
    "    ax3.set_ylim(bottom=-3, top=1)\n",
    "    #ax3.set_xlabel('Time (s)')\n",
    "    ax3.set_xlabel('Timestep')\n",
    "    ax3.plot(timesteps, reward_per_timestep)\n",
    "    ax3.plot(timesteps, reward_per_timestep_smooth, color='red')\n",
    "    ax3.set_title('Reward/Timestep: ' + plot_name)\n",
    "    print(len(timesteps))"
   ]
  },
  {
   "cell_type": "code",
   "execution_count": 38,
   "metadata": {},
   "outputs": [],
   "source": [
    "#plot('/home/oskar/kth/kex/simple-env/experiments/monitor/tail_length_0/tail_length_0_empty_1M/', plot_name='Empty')\n",
    "#plot('/home/oskar/kth/kex/simple-env/experiments/monitor/tail_length_0/tail_length_0_noincrease_1M', plot_name='No Increase')\n",
    "#plot('/home/oskar/kth/kex/simple-env/experiments/monitor/tail_length_0/tail_length_0_increase_1M', plot_name='Increase')\n",
    "#plot('/home/oskar/kth/kex/simple-env/experiments/monitor/tail_length_random/empty_map', plot_name='Empty')\n",
    "#plot('/home/oskar/kth/kex/simple-env/experiments/monitor/tail_length_random/no_increase', plot_name='No Increase')\n",
    "#plot('/home/oskar/kth/kex/simple-env/experiments/monitor/tail_length_random/increase', plot_name='Increase')"
   ]
  }
 ],
 "metadata": {
  "kernelspec": {
   "display_name": "Python 3",
   "language": "python",
   "name": "python3"
  },
  "language_info": {
   "codemirror_mode": {
    "name": "ipython",
    "version": 3
   },
   "file_extension": ".py",
   "mimetype": "text/x-python",
   "name": "python",
   "nbconvert_exporter": "python",
   "pygments_lexer": "ipython3",
   "version": "3.6.8"
  }
 },
 "nbformat": 4,
 "nbformat_minor": 2
}
